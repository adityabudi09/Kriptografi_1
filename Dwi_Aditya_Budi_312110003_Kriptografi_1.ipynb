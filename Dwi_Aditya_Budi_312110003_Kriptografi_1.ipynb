{
  "nbformat": 4,
  "nbformat_minor": 0,
  "metadata": {
    "colab": {
      "provenance": [],
      "authorship_tag": "ABX9TyP0ETAuLVZg1YXD+sajPkOq",
      "include_colab_link": true
    },
    "kernelspec": {
      "name": "python3",
      "display_name": "Python 3"
    },
    "language_info": {
      "name": "python"
    }
  },
  "cells": [
    {
      "cell_type": "markdown",
      "metadata": {
        "id": "view-in-github",
        "colab_type": "text"
      },
      "source": [
        "<a href=\"https://colab.research.google.com/github/adityabudi09/Kriptografi_1/blob/main/Dwi_Aditya_Budi_312110003_Kriptografi_1.ipynb\" target=\"_parent\"><img src=\"https://colab.research.google.com/assets/colab-badge.svg\" alt=\"Open In Colab\"/></a>"
      ]
    },
    {
      "cell_type": "code",
      "execution_count": 7,
      "metadata": {
        "colab": {
          "base_uri": "https://localhost:8080/"
        },
        "id": "_v3cVquJ1FDK",
        "outputId": "46592f39-a0e7-4f8b-83dd-0f44e5820ca1"
      },
      "outputs": [
        {
          "output_type": "stream",
          "name": "stdout",
          "text": [
            "Username: dwi aditya budi\n",
            "Password: password\n",
            "Login Berhasil !!!\n",
            "Password terenkripsi di Data Base: eejkkbro\n",
            "Password terdekripsi di Data Base: password\n"
          ]
        }
      ],
      "source": [
        "# Membuat Fungsi Enkripsi Vigenere\n",
        "def encrypt(text, key):\n",
        "    encrypted_text = \"\"\n",
        "    key_length = len(key)\n",
        "    for i in range(len(text)):\n",
        "        char = text[i]\n",
        "        if char.isalpha():\n",
        "            # Enkripsi karakter huruf\n",
        "            key_char = key[i % key_length]\n",
        "            key_shift = ord(key_char.lower()) - ord('a')\n",
        "            if char.islower():\n",
        "                encrypted_char = chr(((ord(char) - ord('a') + key_shift) % 26) + ord('a'))\n",
        "            else:\n",
        "                encrypted_char = chr(((ord(char) - ord('A') + key_shift) % 26) + ord('A'))\n",
        "            encrypted_text += encrypted_char\n",
        "        else:\n",
        "            # Biarkan karakter non-huruf tidak terenkripsi\n",
        "            encrypted_text += char\n",
        "    return encrypted_text\n",
        "\n",
        "\n",
        "# Membuat Fungsi Dekripsi Vigenere\n",
        "def decrypt(text, key):\n",
        "    decrypted_text = \"\"\n",
        "    key_length = len(key)\n",
        "    for i in range(len(text)):\n",
        "        char = text[i]\n",
        "        if char.isalpha():\n",
        "            # Dekripsi karakter huruf\n",
        "            key_char = key[i % key_length]\n",
        "            key_shift = ord(key_char.lower()) - ord('a')\n",
        "            if char.islower():\n",
        "                decrypted_char = chr(((ord(char) - ord('a') - key_shift) % 26) + ord('a'))\n",
        "            else:\n",
        "                decrypted_char = chr(((ord(char) - ord('A') - key_shift) % 26) + ord('A'))\n",
        "            decrypted_text += decrypted_char\n",
        "        else:\n",
        "            # Biarkan karakter non-huruf tidak terdekripsi\n",
        "            decrypted_text += char\n",
        "    return decrypted_text\n",
        "\n",
        "# Contoh penggunaan untuk sistem login\n",
        "def main():\n",
        "    username = \"dwi aditya budi\"\n",
        "    password = \"password\"\n",
        "    key = \"personal\"\n",
        "\n",
        "    # Enkripsi password sebelum disimpan\n",
        "    encrypted_password = encrypt(password, key)\n",
        "\n",
        "    # Simpan username dan password terenkripsi di database atau file\n",
        "    database = {\"username\": username, \"password\": encrypted_password}\n",
        "\n",
        "    # Proses login username dan password\n",
        "    input_username = input(\"Username: \")\n",
        "    input_password = input(\"Password: \")\n",
        "\n",
        "    if input_username == database[\"username\"] and decrypt(database[\"password\"], key) == input_password:\n",
        "        print(\"Login Berhasil !!!\")\n",
        "\n",
        "        # Tampilkan hasil enkripsi dan dekripsi\n",
        "        print(f\"Password terenkripsi di Data Base: {encrypted_password}\")\n",
        "        decrypted_password = decrypt(database[\"password\"], key)\n",
        "        print(f\"Password terdekripsi di Data Base: {decrypted_password}\")\n",
        "    else:\n",
        "        print(\"Login gagal !!!\")\n",
        "\n",
        "if __name__ == \"__main__\":\n",
        "    main()\n"
      ]
    }
  ]
}